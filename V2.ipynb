{
  "nbformat": 4,
  "nbformat_minor": 0,
  "metadata": {
    "colab": {
      "provenance": [],
      "authorship_tag": "ABX9TyPBRntrOY+OE6OI2JXYmlBN",
      "include_colab_link": true
    },
    "kernelspec": {
      "name": "python3",
      "display_name": "Python 3"
    },
    "language_info": {
      "name": "python"
    }
  },
  "cells": [
    {
      "cell_type": "markdown",
      "metadata": {
        "id": "view-in-github",
        "colab_type": "text"
      },
      "source": [
        "<a href=\"https://colab.research.google.com/github/Zora-33/Data-science-in-depression/blob/main/V2.ipynb\" target=\"_parent\"><img src=\"https://colab.research.google.com/assets/colab-badge.svg\" alt=\"Open In Colab\"/></a>"
      ]
    },
    {
      "cell_type": "code",
      "execution_count": null,
      "metadata": {
        "colab": {
          "base_uri": "https://localhost:8080/",
          "height": 317
        },
        "id": "oDu5aif2R47P",
        "outputId": "8a4b6d17-0ed3-45cc-b7f0-d18526df5fa7"
      },
      "outputs": [
        {
          "output_type": "execute_result",
          "data": {
            "text/plain": [
              "   Unnamed: 0  mood  age  semester  sibilings  relationship  wakeup  \\\n",
              "0           0     1   24         9          3             0      11   \n",
              "1           1     1   23        11          3             1       0   \n",
              "2           2     3   19         3          0             1       9   \n",
              "3           3     2   23        13          1             0      14   \n",
              "4           4     2   22        11          1             1      11   \n",
              "\n",
              "   breakfast  launch  dinner  ...  sports  exercise  video_games  study_hours  \\\n",
              "0          1      16      21  ...       0         0            0            2   \n",
              "1          0      17      23  ...       1         2            1            4   \n",
              "2         10      15      22  ...       0         1            0            3   \n",
              "3         15      19       0  ...       0         0            3            1   \n",
              "4         12      15      24  ...       1         1            3            2   \n",
              "\n",
              "   phone_hours  movies_per_week  music hours  depression  category  \\\n",
              "0            2              0.0            0          18         1   \n",
              "1            0              5.0            0           1         0   \n",
              "2            2              0.0            0          21         2   \n",
              "3            0              5.0            0          23         2   \n",
              "4            2              1.0            4          19         1   \n",
              "\n",
              "   sleep_hours  \n",
              "0            7  \n",
              "1           20  \n",
              "2            8  \n",
              "3           11  \n",
              "4            8  \n",
              "\n",
              "[5 rows x 25 columns]"
            ],
            "text/html": [
              "\n",
              "  <div id=\"df-bddc61b3-41fb-4736-b501-51e83b4c2f5f\">\n",
              "    <div class=\"colab-df-container\">\n",
              "      <div>\n",
              "<style scoped>\n",
              "    .dataframe tbody tr th:only-of-type {\n",
              "        vertical-align: middle;\n",
              "    }\n",
              "\n",
              "    .dataframe tbody tr th {\n",
              "        vertical-align: top;\n",
              "    }\n",
              "\n",
              "    .dataframe thead th {\n",
              "        text-align: right;\n",
              "    }\n",
              "</style>\n",
              "<table border=\"1\" class=\"dataframe\">\n",
              "  <thead>\n",
              "    <tr style=\"text-align: right;\">\n",
              "      <th></th>\n",
              "      <th>Unnamed: 0</th>\n",
              "      <th>mood</th>\n",
              "      <th>age</th>\n",
              "      <th>semester</th>\n",
              "      <th>sibilings</th>\n",
              "      <th>relationship</th>\n",
              "      <th>wakeup</th>\n",
              "      <th>breakfast</th>\n",
              "      <th>launch</th>\n",
              "      <th>dinner</th>\n",
              "      <th>...</th>\n",
              "      <th>sports</th>\n",
              "      <th>exercise</th>\n",
              "      <th>video_games</th>\n",
              "      <th>study_hours</th>\n",
              "      <th>phone_hours</th>\n",
              "      <th>movies_per_week</th>\n",
              "      <th>music hours</th>\n",
              "      <th>depression</th>\n",
              "      <th>category</th>\n",
              "      <th>sleep_hours</th>\n",
              "    </tr>\n",
              "  </thead>\n",
              "  <tbody>\n",
              "    <tr>\n",
              "      <th>0</th>\n",
              "      <td>0</td>\n",
              "      <td>1</td>\n",
              "      <td>24</td>\n",
              "      <td>9</td>\n",
              "      <td>3</td>\n",
              "      <td>0</td>\n",
              "      <td>11</td>\n",
              "      <td>1</td>\n",
              "      <td>16</td>\n",
              "      <td>21</td>\n",
              "      <td>...</td>\n",
              "      <td>0</td>\n",
              "      <td>0</td>\n",
              "      <td>0</td>\n",
              "      <td>2</td>\n",
              "      <td>2</td>\n",
              "      <td>0.0</td>\n",
              "      <td>0</td>\n",
              "      <td>18</td>\n",
              "      <td>1</td>\n",
              "      <td>7</td>\n",
              "    </tr>\n",
              "    <tr>\n",
              "      <th>1</th>\n",
              "      <td>1</td>\n",
              "      <td>1</td>\n",
              "      <td>23</td>\n",
              "      <td>11</td>\n",
              "      <td>3</td>\n",
              "      <td>1</td>\n",
              "      <td>0</td>\n",
              "      <td>0</td>\n",
              "      <td>17</td>\n",
              "      <td>23</td>\n",
              "      <td>...</td>\n",
              "      <td>1</td>\n",
              "      <td>2</td>\n",
              "      <td>1</td>\n",
              "      <td>4</td>\n",
              "      <td>0</td>\n",
              "      <td>5.0</td>\n",
              "      <td>0</td>\n",
              "      <td>1</td>\n",
              "      <td>0</td>\n",
              "      <td>20</td>\n",
              "    </tr>\n",
              "    <tr>\n",
              "      <th>2</th>\n",
              "      <td>2</td>\n",
              "      <td>3</td>\n",
              "      <td>19</td>\n",
              "      <td>3</td>\n",
              "      <td>0</td>\n",
              "      <td>1</td>\n",
              "      <td>9</td>\n",
              "      <td>10</td>\n",
              "      <td>15</td>\n",
              "      <td>22</td>\n",
              "      <td>...</td>\n",
              "      <td>0</td>\n",
              "      <td>1</td>\n",
              "      <td>0</td>\n",
              "      <td>3</td>\n",
              "      <td>2</td>\n",
              "      <td>0.0</td>\n",
              "      <td>0</td>\n",
              "      <td>21</td>\n",
              "      <td>2</td>\n",
              "      <td>8</td>\n",
              "    </tr>\n",
              "    <tr>\n",
              "      <th>3</th>\n",
              "      <td>3</td>\n",
              "      <td>2</td>\n",
              "      <td>23</td>\n",
              "      <td>13</td>\n",
              "      <td>1</td>\n",
              "      <td>0</td>\n",
              "      <td>14</td>\n",
              "      <td>15</td>\n",
              "      <td>19</td>\n",
              "      <td>0</td>\n",
              "      <td>...</td>\n",
              "      <td>0</td>\n",
              "      <td>0</td>\n",
              "      <td>3</td>\n",
              "      <td>1</td>\n",
              "      <td>0</td>\n",
              "      <td>5.0</td>\n",
              "      <td>0</td>\n",
              "      <td>23</td>\n",
              "      <td>2</td>\n",
              "      <td>11</td>\n",
              "    </tr>\n",
              "    <tr>\n",
              "      <th>4</th>\n",
              "      <td>4</td>\n",
              "      <td>2</td>\n",
              "      <td>22</td>\n",
              "      <td>11</td>\n",
              "      <td>1</td>\n",
              "      <td>1</td>\n",
              "      <td>11</td>\n",
              "      <td>12</td>\n",
              "      <td>15</td>\n",
              "      <td>24</td>\n",
              "      <td>...</td>\n",
              "      <td>1</td>\n",
              "      <td>1</td>\n",
              "      <td>3</td>\n",
              "      <td>2</td>\n",
              "      <td>2</td>\n",
              "      <td>1.0</td>\n",
              "      <td>4</td>\n",
              "      <td>19</td>\n",
              "      <td>1</td>\n",
              "      <td>8</td>\n",
              "    </tr>\n",
              "  </tbody>\n",
              "</table>\n",
              "<p>5 rows × 25 columns</p>\n",
              "</div>\n",
              "      <button class=\"colab-df-convert\" onclick=\"convertToInteractive('df-bddc61b3-41fb-4736-b501-51e83b4c2f5f')\"\n",
              "              title=\"Convert this dataframe to an interactive table.\"\n",
              "              style=\"display:none;\">\n",
              "        \n",
              "  <svg xmlns=\"http://www.w3.org/2000/svg\" height=\"24px\"viewBox=\"0 0 24 24\"\n",
              "       width=\"24px\">\n",
              "    <path d=\"M0 0h24v24H0V0z\" fill=\"none\"/>\n",
              "    <path d=\"M18.56 5.44l.94 2.06.94-2.06 2.06-.94-2.06-.94-.94-2.06-.94 2.06-2.06.94zm-11 1L8.5 8.5l.94-2.06 2.06-.94-2.06-.94L8.5 2.5l-.94 2.06-2.06.94zm10 10l.94 2.06.94-2.06 2.06-.94-2.06-.94-.94-2.06-.94 2.06-2.06.94z\"/><path d=\"M17.41 7.96l-1.37-1.37c-.4-.4-.92-.59-1.43-.59-.52 0-1.04.2-1.43.59L10.3 9.45l-7.72 7.72c-.78.78-.78 2.05 0 2.83L4 21.41c.39.39.9.59 1.41.59.51 0 1.02-.2 1.41-.59l7.78-7.78 2.81-2.81c.8-.78.8-2.07 0-2.86zM5.41 20L4 18.59l7.72-7.72 1.47 1.35L5.41 20z\"/>\n",
              "  </svg>\n",
              "      </button>\n",
              "      \n",
              "  <style>\n",
              "    .colab-df-container {\n",
              "      display:flex;\n",
              "      flex-wrap:wrap;\n",
              "      gap: 12px;\n",
              "    }\n",
              "\n",
              "    .colab-df-convert {\n",
              "      background-color: #E8F0FE;\n",
              "      border: none;\n",
              "      border-radius: 50%;\n",
              "      cursor: pointer;\n",
              "      display: none;\n",
              "      fill: #1967D2;\n",
              "      height: 32px;\n",
              "      padding: 0 0 0 0;\n",
              "      width: 32px;\n",
              "    }\n",
              "\n",
              "    .colab-df-convert:hover {\n",
              "      background-color: #E2EBFA;\n",
              "      box-shadow: 0px 1px 2px rgba(60, 64, 67, 0.3), 0px 1px 3px 1px rgba(60, 64, 67, 0.15);\n",
              "      fill: #174EA6;\n",
              "    }\n",
              "\n",
              "    [theme=dark] .colab-df-convert {\n",
              "      background-color: #3B4455;\n",
              "      fill: #D2E3FC;\n",
              "    }\n",
              "\n",
              "    [theme=dark] .colab-df-convert:hover {\n",
              "      background-color: #434B5C;\n",
              "      box-shadow: 0px 1px 3px 1px rgba(0, 0, 0, 0.15);\n",
              "      filter: drop-shadow(0px 1px 2px rgba(0, 0, 0, 0.3));\n",
              "      fill: #FFFFFF;\n",
              "    }\n",
              "  </style>\n",
              "\n",
              "      <script>\n",
              "        const buttonEl =\n",
              "          document.querySelector('#df-bddc61b3-41fb-4736-b501-51e83b4c2f5f button.colab-df-convert');\n",
              "        buttonEl.style.display =\n",
              "          google.colab.kernel.accessAllowed ? 'block' : 'none';\n",
              "\n",
              "        async function convertToInteractive(key) {\n",
              "          const element = document.querySelector('#df-bddc61b3-41fb-4736-b501-51e83b4c2f5f');\n",
              "          const dataTable =\n",
              "            await google.colab.kernel.invokeFunction('convertToInteractive',\n",
              "                                                     [key], {});\n",
              "          if (!dataTable) return;\n",
              "\n",
              "          const docLinkHtml = 'Like what you see? Visit the ' +\n",
              "            '<a target=\"_blank\" href=https://colab.research.google.com/notebooks/data_table.ipynb>data table notebook</a>'\n",
              "            + ' to learn more about interactive tables.';\n",
              "          element.innerHTML = '';\n",
              "          dataTable['output_type'] = 'display_data';\n",
              "          await google.colab.output.renderOutput(dataTable, element);\n",
              "          const docLink = document.createElement('div');\n",
              "          docLink.innerHTML = docLinkHtml;\n",
              "          element.appendChild(docLink);\n",
              "        }\n",
              "      </script>\n",
              "    </div>\n",
              "  </div>\n",
              "  "
            ]
          },
          "metadata": {},
          "execution_count": 6
        }
      ],
      "source": [
        "import pandas as pd\n",
        "import numpy as np\n",
        "from sklearn.model_selection import train_test_split\n",
        "\n",
        "c = pd.read_csv(r'/content/featureSelect_200702csv.csv') \n",
        "c.head()"
      ]
    },
    {
      "cell_type": "code",
      "source": [
        "c.info()"
      ],
      "metadata": {
        "colab": {
          "base_uri": "https://localhost:8080/"
        },
        "id": "j7Zrc7myUwjS",
        "outputId": "3b3d9dfb-6254-4beb-c91c-97bf2df4a518"
      },
      "execution_count": null,
      "outputs": [
        {
          "output_type": "stream",
          "name": "stdout",
          "text": [
            "<class 'pandas.core.frame.DataFrame'>\n",
            "RangeIndex: 749 entries, 0 to 748\n",
            "Data columns (total 25 columns):\n",
            " #   Column           Non-Null Count  Dtype  \n",
            "---  ------           --------------  -----  \n",
            " 0   Unnamed: 0       749 non-null    int64  \n",
            " 1   mood             749 non-null    int64  \n",
            " 2   age              749 non-null    int64  \n",
            " 3   semester         749 non-null    int64  \n",
            " 4   sibilings        749 non-null    int64  \n",
            " 5   relationship     749 non-null    int64  \n",
            " 6   wakeup           749 non-null    int64  \n",
            " 7   breakfast        749 non-null    int64  \n",
            " 8   launch           749 non-null    int64  \n",
            " 9   dinner           749 non-null    int64  \n",
            " 10  sleep            749 non-null    int64  \n",
            " 11  friends          749 non-null    int64  \n",
            " 12  hangout          749 non-null    int64  \n",
            " 13  social_events    749 non-null    int64  \n",
            " 14  pray             749 non-null    int64  \n",
            " 15  sports           749 non-null    int64  \n",
            " 16  exercise         749 non-null    int64  \n",
            " 17  video_games      749 non-null    int64  \n",
            " 18  study_hours      749 non-null    int64  \n",
            " 19  phone_hours      749 non-null    int64  \n",
            " 20  movies_per_week  749 non-null    float64\n",
            " 21  music hours      749 non-null    int64  \n",
            " 22  depression       749 non-null    int64  \n",
            " 23  category         749 non-null    int64  \n",
            " 24  sleep_hours      749 non-null    int64  \n",
            "dtypes: float64(1), int64(24)\n",
            "memory usage: 146.4 KB\n"
          ]
        }
      ]
    },
    {
      "cell_type": "code",
      "source": [
        "X = c.drop(['depression','category',\"Unnamed: 0\"],axis =1)\n",
        "y = c[['category']]\n",
        "X_train, X_test, y_train, y_test = train_test_split(X, y, test_size=0.65, random_state=42)"
      ],
      "metadata": {
        "id": "KUaZXtBbSs05"
      },
      "execution_count": null,
      "outputs": []
    },
    {
      "cell_type": "code",
      "source": [
        "X.info()"
      ],
      "metadata": {
        "colab": {
          "base_uri": "https://localhost:8080/"
        },
        "id": "rXNgt8vGU_xY",
        "outputId": "e5ea3d24-85b3-4464-8911-0e2dd263361a"
      },
      "execution_count": null,
      "outputs": [
        {
          "output_type": "stream",
          "name": "stdout",
          "text": [
            "<class 'pandas.core.frame.DataFrame'>\n",
            "RangeIndex: 749 entries, 0 to 748\n",
            "Data columns (total 22 columns):\n",
            " #   Column           Non-Null Count  Dtype  \n",
            "---  ------           --------------  -----  \n",
            " 0   mood             749 non-null    int64  \n",
            " 1   age              749 non-null    int64  \n",
            " 2   semester         749 non-null    int64  \n",
            " 3   sibilings        749 non-null    int64  \n",
            " 4   relationship     749 non-null    int64  \n",
            " 5   wakeup           749 non-null    int64  \n",
            " 6   breakfast        749 non-null    int64  \n",
            " 7   launch           749 non-null    int64  \n",
            " 8   dinner           749 non-null    int64  \n",
            " 9   sleep            749 non-null    int64  \n",
            " 10  friends          749 non-null    int64  \n",
            " 11  hangout          749 non-null    int64  \n",
            " 12  social_events    749 non-null    int64  \n",
            " 13  pray             749 non-null    int64  \n",
            " 14  sports           749 non-null    int64  \n",
            " 15  exercise         749 non-null    int64  \n",
            " 16  video_games      749 non-null    int64  \n",
            " 17  study_hours      749 non-null    int64  \n",
            " 18  phone_hours      749 non-null    int64  \n",
            " 19  movies_per_week  749 non-null    float64\n",
            " 20  music hours      749 non-null    int64  \n",
            " 21  sleep_hours      749 non-null    int64  \n",
            "dtypes: float64(1), int64(21)\n",
            "memory usage: 128.9 KB\n"
          ]
        }
      ]
    },
    {
      "cell_type": "code",
      "source": [
        "from sklearn.tree import DecisionTreeClassifier\n",
        "from sklearn import metrics \n",
        "dtree = DecisionTreeClassifier(max_depth=2)\n",
        "dtree.fit(X_train, y_train)\n",
        "y_pred = dtree.predict(X_test)\n",
        "print(\"Descision Tree Accuracy:\",metrics.accuracy_score(y_test, y_pred))\n",
        "print(\"Descision Tree precison:\",metrics.precision_score(y_test, y_pred,average = None))\n"
      ],
      "metadata": {
        "colab": {
          "base_uri": "https://localhost:8080/"
        },
        "id": "JBiLJO3CU9Fd",
        "outputId": "cb8e9f1d-72ff-468f-ac5a-83799c060ac5"
      },
      "execution_count": null,
      "outputs": [
        {
          "output_type": "stream",
          "name": "stdout",
          "text": [
            "Descision Tree Accuracy: 0.7494866529774127\n",
            "Descision Tree precison: [0.33333333 0.75467775 0.        ]\n"
          ]
        },
        {
          "output_type": "stream",
          "name": "stderr",
          "text": [
            "/usr/local/lib/python3.7/dist-packages/sklearn/metrics/_classification.py:1318: UndefinedMetricWarning: Precision is ill-defined and being set to 0.0 in labels with no predicted samples. Use `zero_division` parameter to control this behavior.\n",
            "  _warn_prf(average, modifier, msg_start, len(result))\n"
          ]
        }
      ]
    },
    {
      "cell_type": "code",
      "source": [
        "#Bagging Ensemble\n",
        "from sklearn import metrics \n",
        "from sklearn.ensemble import BaggingClassifier \n",
        "from sklearn.tree import DecisionTreeClassifier\n",
        "bag_clf = BaggingClassifier(DecisionTreeClassifier(), n_estimators=50, max_samples=100, bootstrap=True, n_jobs=-1)\n",
        "bag_clf.fit(X_train, y_train) \n",
        "y_pred = bag_clf.predict(X_test)\n",
        "print(\"Bagging Ensemble Accuracy:\",metrics.accuracy_score(y_test, y_pred))\n",
        "print(\"Bagging Ensemble precison:\",metrics.precision_score(y_test, y_pred,average = None))"
      ],
      "metadata": {
        "colab": {
          "base_uri": "https://localhost:8080/"
        },
        "id": "8BTocIAEV58T",
        "outputId": "8691583e-d0c1-4e0b-f042-d529c903a54f"
      },
      "execution_count": null,
      "outputs": [
        {
          "output_type": "stream",
          "name": "stdout",
          "text": [
            "Bagging Ensemble Accuracy: 0.728952772073922\n",
            "Bagging Ensemble precison: [0.35294118 0.76576577 0.33333333]\n"
          ]
        },
        {
          "output_type": "stream",
          "name": "stderr",
          "text": [
            "/usr/local/lib/python3.7/dist-packages/sklearn/ensemble/_bagging.py:719: DataConversionWarning: A column-vector y was passed when a 1d array was expected. Please change the shape of y to (n_samples, ), for example using ravel().\n",
            "  y = column_or_1d(y, warn=True)\n"
          ]
        }
      ]
    },
    {
      "cell_type": "code",
      "source": [
        "#Random Forests\n",
        "from sklearn import metrics \n",
        "from sklearn.ensemble import RandomForestClassifier\n",
        "rnd_clf = RandomForestClassifier(n_estimators=50, max_leaf_nodes=16, n_jobs=-1)\n",
        "rnd_clf.fit(X_train, y_train)\n",
        "y_pred_rf = rnd_clf.predict(X_test)\n",
        "print(\"Random Forests Accuracy:\",metrics.accuracy_score(y_test, y_pred_rf))\n",
        "print(\"Random Forests precison:\",metrics.precision_score(y_test, y_pred,average = None))"
      ],
      "metadata": {
        "colab": {
          "base_uri": "https://localhost:8080/"
        },
        "id": "G7y1btESV8En",
        "outputId": "f95b2938-d363-4329-9afb-d0d64d4e91d7"
      },
      "execution_count": null,
      "outputs": [
        {
          "output_type": "stream",
          "name": "stderr",
          "text": [
            "/usr/local/lib/python3.7/dist-packages/ipykernel_launcher.py:5: DataConversionWarning: A column-vector y was passed when a 1d array was expected. Please change the shape of y to (n_samples,), for example using ravel().\n",
            "  \"\"\"\n"
          ]
        },
        {
          "output_type": "stream",
          "name": "stdout",
          "text": [
            "Random Forests Accuracy: 0.7494866529774127\n",
            "Random Forests precison: [0.35294118 0.76576577 0.33333333]\n"
          ]
        }
      ]
    },
    {
      "cell_type": "code",
      "source": [
        "#AdaBoost \n",
        "from sklearn.ensemble import AdaBoostClassifier \n",
        "ada_clf = AdaBoostClassifier( DecisionTreeClassifier(max_depth=1), n_estimators=50,algorithm=\"SAMME.R\", learning_rate=0.5)\n",
        "ada_clf.fit(X_train, y_train)\n",
        "y_pred = ada_clf.predict(X_test)\n",
        "print(\"AdaBoost Accuracy:\",metrics.accuracy_score(y_test, y_pred))\n",
        "print(\"AdaBoost precison:\",metrics.precision_score(y_test, y_pred,average = None))"
      ],
      "metadata": {
        "colab": {
          "base_uri": "https://localhost:8080/"
        },
        "id": "Yr8mKebOV-zK",
        "outputId": "5d7360a4-7a59-4d89-a22e-1466538149de"
      },
      "execution_count": null,
      "outputs": [
        {
          "output_type": "stream",
          "name": "stdout",
          "text": [
            "AdaBoost Accuracy: 0.6714579055441479\n",
            "AdaBoost precison: [0.29545455 0.75429975 0.19444444]\n"
          ]
        },
        {
          "output_type": "stream",
          "name": "stderr",
          "text": [
            "/usr/local/lib/python3.7/dist-packages/sklearn/utils/validation.py:993: DataConversionWarning: A column-vector y was passed when a 1d array was expected. Please change the shape of y to (n_samples, ), for example using ravel().\n",
            "  y = column_or_1d(y, warn=True)\n"
          ]
        }
      ]
    },
    {
      "cell_type": "code",
      "source": [
        "from sklearn.datasets import make_classification\n",
        "from sklearn.ensemble import GradientBoostingClassifier\n",
        "model = GradientBoostingClassifier()\n",
        "# fit the model on the whole dataset\n",
        "model.fit(X_train, y_train)\n",
        "y_pred = model.predict(X_test)\n",
        "print(\"accuricy=\",metrics.accuracy_score(y_test, y_pred))\n",
        "print(\"GradientBoosting precison:\",metrics.precision_score(y_test, y_pred,average = None))"
      ],
      "metadata": {
        "colab": {
          "base_uri": "https://localhost:8080/"
        },
        "id": "On5DoRQtV_ac",
        "outputId": "51aa6ae9-73d6-4d14-e653-9d6a408cb647"
      },
      "execution_count": null,
      "outputs": [
        {
          "output_type": "stream",
          "name": "stderr",
          "text": [
            "/usr/local/lib/python3.7/dist-packages/sklearn/ensemble/_gb.py:494: DataConversionWarning: A column-vector y was passed when a 1d array was expected. Please change the shape of y to (n_samples, ), for example using ravel().\n",
            "  y = column_or_1d(y, warn=True)\n"
          ]
        },
        {
          "output_type": "stream",
          "name": "stdout",
          "text": [
            "accuricy= 0.6735112936344969\n",
            "GradientBoosting precison: [0.25       0.76108374 0.20689655]\n"
          ]
        }
      ]
    }
  ]
}